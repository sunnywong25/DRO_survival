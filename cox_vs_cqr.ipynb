{
 "cells": [
  {
   "cell_type": "code",
   "execution_count": 1,
   "id": "f4c55bce",
   "metadata": {},
   "outputs": [],
   "source": [
    "import pandas as pd\n",
    "import numpy as np\n",
    "\n",
    "import matplotlib.pyplot as plt\n",
    "from sksurv.nonparametric import kaplan_meier_estimator\n",
    "\n",
    "import sklearn as sk\n",
    "from sklearn.model_selection import train_test_split\n",
    "from sklearn.preprocessing import StandardScaler\n",
    "\n",
    "from performance_measures import c_index, brier_score, weighted_c_index, weighted_brier_score,log_partial_lik\n",
    "from neural_models import negLogLikelihood, linearCoxPH_Regression, MLP, negLogLikelihood_per_sample\n",
    "from fairness_measures import individual_fairness, group_fairness, intersect_fairness, individual_fairness_scale, CI, C_index_difference\n",
    "\n",
    "from sksurv.preprocessing import OneHotEncoder\n",
    "from sklearn import preprocessing\n",
    "from sklearn.preprocessing import StandardScaler, MinMaxScaler\n",
    "from sklearn.metrics import brier_score_loss\n",
    "from sksurv.metrics import concordance_index_censored, brier_score, integrated_brier_score\n",
    "from sksurv.metrics import concordance_index_ipcw,cumulative_dynamic_auc\n",
    "from sksurv.util import Surv\n",
    "import os\n",
    "\n",
    "import torch\n",
    "import torch.nn as nn\n",
    "import torch.optim as optim\n",
    "from torch.autograd import Variable\n",
    "import argparse\n",
    "from scipy import optimize\n",
    "import datetime"
   ]
  },
  {
   "cell_type": "markdown",
   "id": "f3b6e5d3",
   "metadata": {},
   "source": [
    "Arguments"
   ]
  },
  {
   "cell_type": "code",
   "execution_count": 2,
   "id": "3c6e888c",
   "metadata": {},
   "outputs": [],
   "source": [
    "# parser = argparse.ArgumentParser(description='PyTorch Joint DRO for Survival Analysis')\n",
    "# parser.add_argument('--dataset', type=str, default=\"FLC\", help=\"choose from 'FLC', 'SUPPORT', 'SEER'\")\n",
    "# parser.add_argument('--model', type=str, default=\"Linear\", help=\"choose from 'Linear' and 'MLP'\")\n",
    "# parser.add_argument('--gpuid', type=str, default='0', help='GPU ID')\n",
    "# parser.add_argument('--epochs', type=int, default=500, metavar='N', help='number of epochs to train')\n",
    "# parser.add_argument('--lr', type=float, default=0.01, metavar='LR', help='learning rate')\n",
    "# parser.add_argument('--with_scale', type=bool, default=True, help='use scale for testing')\n",
    "# parser.add_argument('--eps', type=float, default=0.1, help='a lower bound on the group proportions e.g. {0.05, 0.1, 0.15, 0.2, 0.3, 0.4, 0.5}')\n",
    "# parser.add_argument('--seed', type=int, default=7, help='Seed')\n",
    "# parser.add_argument('--protect_index', type=int, default=0, help='protect attribute index')\n",
    "# parser.add_argument('--train_or_evaluation', type=int, default=0, help='0 for training, 1 for evaluation')\n",
    "# args = parser.parse_args()\n",
    "# os.environ['CUDA_VISIBLE_DEVICES'] = args.gpuid\n",
    "\n",
    "args = {'dataset': 'FLC', \n",
    "        'model': 'Linear',\n",
    "        'gpuid': '0',\n",
    "        'epochs': 500,\n",
    "        'lr': 0.01,\n",
    "        'with_scale': True,\n",
    "        'eps': 0.1,\n",
    "        'seed': 7,\n",
    "        'protect_index': 0,\n",
    "        'train_or_evaluation': 1}"
   ]
  },
  {
   "cell_type": "code",
   "execution_count": 3,
   "id": "947c6c17",
   "metadata": {},
   "outputs": [],
   "source": [
    "from compute_survival_function import predict_survival_function  \n",
    "\n",
    "#The function below ensures that we seed all random generators with the same value to get reproducible results\n",
    "def set_random_seed(state=1):\n",
    "    gens = (np.random.seed, torch.manual_seed, torch.cuda.manual_seed)\n",
    "    for set_state in gens:\n",
    "        set_state(state)\n",
    "\n",
    "RANDOM_STATE = 1\n",
    "set_random_seed(RANDOM_STATE)\n",
    "\n",
    "def threshplus(x):\n",
    "    y = x.copy()\n",
    "    y[y<0]=0\n",
    "    return y\n",
    "\n",
    "def threshplus_tensor(x):\n",
    "    y = x.clone()\n",
    "    y[y<0]=0\n",
    "    return y\n",
    "\n",
    "def loss_map_chi_factory(loss_values, eps):\n",
    "    # return lambda x: np.sqrt(2)*(1.0/eps-1.0)*np.sqrt(np.mean(threshplus(loss_values-x)**2.0)) + x\n",
    "    return lambda x: np.sqrt(2 * ((1.0 / eps - 1.0)** 2.0)+1) * np.sqrt(np.mean(threshplus(loss_values - x) ** 2.0)) + x\n",
    "\n",
    "def loss_map_chi_factory_tensor(loss_values, eps, opt_eta):\n",
    "    # return np.sqrt(2)*(1.0/eps-1.0)*torch.sqrt(torch.mean(threshplus_tensor(loss_values-opt_eta)**2.0)) + opt_eta\n",
    "    return np.sqrt(2 * ((1.0 / eps - 1.0)** 2.0)+1)*torch.sqrt(torch.mean(threshplus_tensor(loss_values-opt_eta)**2.0)) + opt_eta"
   ]
  },
  {
   "cell_type": "markdown",
   "id": "8aa76934",
   "metadata": {},
   "source": [
    "# Preprocessing"
   ]
  },
  {
   "cell_type": "code",
   "execution_count": 4,
   "id": "cbf9fe86",
   "metadata": {},
   "outputs": [],
   "source": [
    "from matplotlib import pyplot as plt"
   ]
  },
  {
   "cell_type": "code",
   "execution_count": 5,
   "id": "4704e842",
   "metadata": {},
   "outputs": [],
   "source": [
    "# FLC data:\n",
    "from utilities import prepare_data\n",
    "from utilities import check_arrays_survival\n",
    "from flc_data_preprocess import flc_preprocess\n",
    "from support_data_preprocess import support_preprocess\n",
    "from compas_data_preprocess import compas_preprocess\n",
    "from seer_data_preprocess import seer_preprocess\n",
    "\n",
    "#Survival Data\n",
    "if args['dataset'] == 'FLC':\n",
    "    data_x, data_y, protect_attr = flc_preprocess()\n",
    "elif args['dataset'] == 'SUPPORT':\n",
    "    data_x, data_y, protect_attr = support_preprocess()\n",
    "elif args['dataset'] == 'COMPAS':\n",
    "    data_x, data_y, protect_attr = compas_preprocess()\n",
    "elif args['dataset'] == 'SEER':\n",
    "    data_x, data_y, protect_attr = seer_preprocess()\n",
    "else:\n",
    "    print('unknown')\n",
    "\n",
    "# train-test split\n",
    "data_X_train, data_X_test, data_y_train, data_y_test, S_train, S_test = train_test_split(data_x, data_y, protect_attr, test_size=0.2,stratify=data_y[\"death\"], random_state=args['seed'])\n",
    "data_X_train, data_X_dev, data_y_train, data_y_dev, S_train, S_dev = train_test_split(data_X_train, data_y_train, S_train, test_size=0.2,stratify=data_y_train[\"death\"], random_state=args['seed'])\n",
    "#\n",
    "data_X_train, data_event_train, data_time_train = check_arrays_survival(data_X_train, data_y_train)\n",
    "data_X_train, data_event_train, data_time_train, S_train = prepare_data(data_X_train, data_event_train, data_time_train, S_train)\n",
    "\n",
    "if args['train_or_evaluation']==0:\n",
    "    data_X_test, data_event_test, data_time_test = check_arrays_survival(data_X_dev, data_y_dev)\n",
    "    data_X_test, data_event_test, data_time_test, S_test = prepare_data(data_X_test, data_event_test, data_time_test, S_dev)\n",
    "    data_y_test = data_y_dev\n",
    "else:\n",
    "    data_X_test, data_event_test, data_time_test = check_arrays_survival(data_X_test, data_y_test)\n",
    "    data_X_test, data_event_test, data_time_test, S_test = prepare_data(data_X_test, data_event_test, data_time_test, S_test)\n",
    "#\n",
    "intersectionalGroups = np.unique(S_train,axis=0) # all intersecting groups, i.e. black-women, white-man etc \n",
    "# data normalization: mean subtraction method to compute euclidean distance\n",
    "scaler = StandardScaler()\n",
    "scaler.fit(data_X_train)\n",
    "data_X_train = scaler.transform(data_X_train)\n",
    "data_X_test = scaler.transform(data_X_test)"
   ]
  },
  {
   "cell_type": "code",
   "execution_count": null,
   "id": "6b5dc324",
   "metadata": {},
   "outputs": [],
   "source": [
    "# from sklearn.metrics.pairwise import pairwise_distances\n",
    "# data_X_train_sorted = data_X_train\n",
    "# data_event_train_sorted = data_event_train\n",
    "# data_time_train_sorted = data_time_train\n",
    "# t = np.linspace(0, 10000, 100)\n",
    "\n",
    "# dist_mat_test_to_train = pairwise_distances(data_X_test, data_X_train_sorted, metric='sqeuclidean')\n",
    "# bw = 1\n",
    "# kernel = lambda x: np.exp(-x)\n",
    "# B_mat = kernel(dist_mat_test_to_train/bw)\n",
    "# # B_mat = B_mat/B_mat.sum(axis = 1, keepdims=True)\n",
    "# B_mat += 10e-10\n",
    "\n",
    "# indicator_mat = data_time_train_sorted.reshape(-1, 1) >= data_time_train_sorted.reshape(1, -1)\n",
    "# #eta = (data_time_train_sorted <= t)*data_event_train_sorted\n",
    "# eta = (data_time_train_sorted.reshape(-1, 1) <= t.reshape(1, -1))*data_event_train_sorted.reshape(-1, 1)\n",
    "# product_term_mat = np.power((1 - B_mat/np.matmul(B_mat, indicator_mat))[:, :, np.newaxis], eta[np.newaxis, :, :])\n",
    "# F_hat = 1 - np.product(product_term_mat, axis=1)"
   ]
  },
  {
   "cell_type": "code",
   "execution_count": null,
   "id": "c5dcb3cc",
   "metadata": {},
   "outputs": [],
   "source": [
    "# t = np.array([1000, 2500, 4000])\n",
    "# eta = (data_time_train_sorted.reshape(-1, 1) <= t.reshape(1, -1))*data_event_train_sorted.reshape(-1, 1)\n",
    "# term_mat = np.power((1 - B_mat/np.matmul(B_mat, indicator_mat))[:, :, np.newaxis], eta[np.newaxis, :, :])"
   ]
  },
  {
   "cell_type": "markdown",
   "id": "9ec6147b",
   "metadata": {},
   "source": [
    "# Train/Load Model"
   ]
  },
  {
   "cell_type": "markdown",
   "id": "d44d52ae",
   "metadata": {},
   "source": [
    "## CQR"
   ]
  },
  {
   "cell_type": "code",
   "execution_count": null,
   "id": "12aefc03",
   "metadata": {},
   "outputs": [],
   "source": [
    "from sklearn.metrics.pairwise import pairwise_distances\n",
    "class Local_KM:\n",
    "    def __init__(self, X, event, time, kernel, bw, is_minmax_normalize = True):\n",
    "        if is_minmax_normalize:\n",
    "            scaler = MinMaxScaler()\n",
    "            self.X = scaler.fit_transform(X)\n",
    "        else:\n",
    "            self.X = X\n",
    "        self.event = event\n",
    "        self.time = time\n",
    "        self.kernel = kernel # only support squared euclidean distance\n",
    "        self.bw = bw\n",
    "\n",
    "    def predict(self, time_test, X_test):\n",
    "        dist_mat_test_to_train = pairwise_distances(X_test, self.X, metric='sqeuclidean')\n",
    "        B_mat = self.kernel(dist_mat_test_to_train/self.bw)\n",
    "        B_mat += 10e-10\n",
    "        indicator_mat = self.time.reshape(-1, 1) >= self.time.reshape(1, -1)\n",
    "        # eta = (self.time.reshape(-1, 1) <= t.reshape(1, -1))*self.event.reshape(-1, 1)\n",
    "        eta = (self.time.reshape(1, -1) <= time_test.reshape(-1, 1))*self.event.reshape(1, -1)\n",
    "        product_term_mat = (1 - B_mat/np.matmul(B_mat, indicator_mat))**eta\n",
    "        F_hat = 1 - np.product(product_term_mat, axis=1)\n",
    "        return F_hat"
   ]
  },
  {
   "cell_type": "code",
   "execution_count": 7,
   "id": "3a5bea20",
   "metadata": {},
   "outputs": [],
   "source": [
    "local_km_model = Local_KM(data_X_train, data_event_train, data_time_train, lambda x: np.exp(-x), 0.001)\n",
    "F_hat = local_km_model.predict(data_time_train, data_X_train)"
   ]
  },
  {
   "cell_type": "code",
   "execution_count": 8,
   "id": "febd341d",
   "metadata": {},
   "outputs": [],
   "source": [
    "# CQR augmented data\n",
    "tau = 0.5\n",
    "augment_index = np.where(((1 - data_event_train)*(F_hat < tau)))[0]\n",
    "weight_train = np.ones(len(data_event_train))\n",
    "weight_train[augment_index] = ((tau - F_hat)/(1 - F_hat))[augment_index]\n",
    "weight_train = np.concatenate([weight_train, 1 - weight_train[augment_index]])\n",
    "\n",
    "n_augment = len(augment_index)\n",
    "augment_index = np.concatenate([np.arange(len(data_event_train)), augment_index])\n",
    "data_X_train_augmented = data_X_train[augment_index]\n",
    "data_event_train_augmented = data_event_train[augment_index]\n",
    "data_time_train_augmented = np.concatenate([data_time_train, np.repeat(data_time_train.max()*100, n_augment)])"
   ]
  },
  {
   "cell_type": "code",
   "execution_count": 9,
   "id": "e9d6eae8",
   "metadata": {},
   "outputs": [
    {
     "data": {
      "text/plain": [
       "QuantileRegressor(alpha=0.0, solver='highs')"
      ]
     },
     "execution_count": 9,
     "metadata": {},
     "output_type": "execute_result"
    }
   ],
   "source": [
    "from sklearn.linear_model import QuantileRegressor\n",
    "cqr_model = QuantileRegressor(quantile=tau, alpha=0.0, fit_intercept=True, solver='highs')\n",
    "cqr_model.fit(data_X_train_augmented, data_time_train_augmented, sample_weight=weight_train)"
   ]
  },
  {
   "cell_type": "code",
   "execution_count": 12,
   "id": "6afd1422",
   "metadata": {},
   "outputs": [
    {
     "data": {
      "text/plain": [
       "array([5234.51999897, 6127.37171657, 5563.16968979, ..., 5101.681327  ,\n",
       "       2221.937069  , 1202.7923661 ])"
      ]
     },
     "execution_count": 12,
     "metadata": {},
     "output_type": "execute_result"
    }
   ],
   "source": [
    "cqr_model.predict(data_X_train)"
   ]
  },
  {
   "cell_type": "code",
   "execution_count": 11,
   "id": "bea9c66f",
   "metadata": {},
   "outputs": [
    {
     "name": "stderr",
     "output_type": "stream",
     "text": [
      "C:\\Users\\Administrator\\AppData\\Local\\Temp\\ipykernel_3440\\133484366.py:1: RuntimeWarning: overflow encountered in exp\n",
      "  np.exp(cqr_model.predict(data_X_train)).max()\n"
     ]
    },
    {
     "data": {
      "text/plain": [
       "inf"
      ]
     },
     "execution_count": 11,
     "metadata": {},
     "output_type": "execute_result"
    }
   ],
   "source": [
    "np.exp(cqr_model.predict(data_X_train)).max()"
   ]
  },
  {
   "cell_type": "code",
   "execution_count": 107,
   "id": "2c3e0841",
   "metadata": {},
   "outputs": [
    {
     "data": {
      "text/plain": [
       "0.773169279618972"
      ]
     },
     "execution_count": 107,
     "metadata": {},
     "output_type": "execute_result"
    }
   ],
   "source": [
    "np.mean(data_time_train <= cqr_model.predict(data_X_train))"
   ]
  },
  {
   "cell_type": "code",
   "execution_count": 114,
   "id": "954159ed",
   "metadata": {},
   "outputs": [
    {
     "data": {
      "text/plain": [
       "0.7245364490728982"
      ]
     },
     "execution_count": 114,
     "metadata": {},
     "output_type": "execute_result"
    }
   ],
   "source": [
    "1 - np.array([y[0] for y in data_y]).mean()"
   ]
  },
  {
   "cell_type": "code",
   "execution_count": 13,
   "id": "0e62f1e5",
   "metadata": {},
   "outputs": [
    {
     "data": {
      "text/plain": [
       "(array([ 253.,  207.,  168.,  199.,  316.,  293.,  339.,  545., 1065.,\n",
       "        1654.]),\n",
       " array([   0. ,  517.7, 1035.4, 1553.1, 2070.8, 2588.5, 3106.2, 3623.9,\n",
       "        4141.6, 4659.3, 5177. ]),\n",
       " <BarContainer object of 10 artists>)"
      ]
     },
     "execution_count": 13,
     "metadata": {},
     "output_type": "execute_result"
    },
    {
     "data": {
      "image/png": "[encoded data removed]",
      "text/plain": [
       "<Figure size 640x480 with 1 Axes>"
      ]
     },
     "metadata": {},
     "output_type": "display_data"
    }
   ],
   "source": [
    "plt.hist(data_time_train)"
   ]
  },
  {
   "cell_type": "code",
   "execution_count": 14,
   "id": "27e7bbc4",
   "metadata": {},
   "outputs": [
    {
     "data": {
      "text/plain": [
       "(array([2.000e+00, 1.000e+00, 1.000e+00, 6.000e+00, 3.300e+01, 1.480e+02,\n",
       "        5.630e+02, 1.275e+03, 1.843e+03, 1.167e+03]),\n",
       " array([-4249.53017904, -3147.3471846 , -2045.16419015,  -942.9811957 ,\n",
       "          159.20179875,  1261.38479319,  2363.56778764,  3465.75078209,\n",
       "         4567.93377654,  5670.11677098,  6772.29976543]),\n",
       " <BarContainer object of 10 artists>)"
      ]
     },
     "execution_count": 14,
     "metadata": {},
     "output_type": "execute_result"
    },
    {
     "data": {
      "image/png": "[encoded data removed]",
      "text/plain": [
       "<Figure size 640x480 with 1 Axes>"
      ]
     },
     "metadata": {},
     "output_type": "display_data"
    }
   ],
   "source": [
    "plt.hist(cqr_model.predict(data_X_train))"
   ]
  },
  {
   "cell_type": "code",
   "execution_count": 44,
   "id": "6462d561",
   "metadata": {},
   "outputs": [
    {
     "data": {
      "text/plain": [
       "22026.465794806718"
      ]
     },
     "execution_count": 44,
     "metadata": {},
     "output_type": "execute_result"
    }
   ],
   "source": [
    "np.exp(10)"
   ]
  },
  {
   "cell_type": "code",
   "execution_count": 48,
   "id": "e8d966be",
   "metadata": {},
   "outputs": [
    {
     "data": {
      "text/plain": [
       "array([7349.38831067, 9675.86232845, 8459.92962799, ..., 8274.99226838,\n",
       "       8910.18942779, 7473.6985098 ])"
      ]
     },
     "execution_count": 48,
     "metadata": {},
     "output_type": "execute_result"
    }
   ],
   "source": [
    "data_X_train_augmented@cqr_model.coef_ + cqr_model.intercept_"
   ]
  },
  {
   "cell_type": "code",
   "execution_count": 35,
   "id": "52cdd364",
   "metadata": {},
   "outputs": [
    {
     "data": {
      "text/plain": [
       "array([22241.92027466, 74366.58826611, 42851.98037444, ...,\n",
       "       38964.05500253, 51005.85396553, 25688.60302097])"
      ]
     },
     "execution_count": 35,
     "metadata": {},
     "output_type": "execute_result"
    }
   ],
   "source": [
    "np.exp(cqr_model.predict(data_X_train_augmented))"
   ]
  },
  {
   "cell_type": "markdown",
   "id": "736fe0b6",
   "metadata": {},
   "source": [
    "## DRO-COX"
   ]
  },
  {
   "cell_type": "code",
   "execution_count": 15,
   "id": "ea91b2a1",
   "metadata": {},
   "outputs": [],
   "source": [
    "# hyperparameters of the model\n",
    "input_size = data_X_train.shape[1]\n",
    "output_size = 1\n",
    "\n",
    "# intialize model and optimizar\n",
    "# initialize cox PH model   \n",
    "if args['model'] == 'Linear':\n",
    "    coxPH_model = linearCoxPH_Regression(input_size,output_size)\n",
    "if args['model'] == 'MLP':\n",
    "    coxPH_model = MLP(input_size, output_size)\n",
    "# Loss and optimizer\n",
    "criterion = negLogLikelihood()\n",
    "criterion_per_sample = negLogLikelihood_per_sample()\n",
    "optimizer = optim.Adam(coxPH_model.parameters(),lr = args['lr']) # adam optimizer\n",
    "\n",
    "# training cox ph model \n",
    "data_X_train = Variable((torch.from_numpy(data_X_train)).float())\n",
    "data_event_train = Variable((torch.from_numpy(data_event_train)).float()) \n",
    "data_time_train = Variable((torch.from_numpy(data_time_train)).float()) \n",
    "  \n",
    "data_X_test = Variable((torch.from_numpy(data_X_test)).float())"
   ]
  },
  {
   "cell_type": "code",
   "execution_count": 16,
   "id": "69769a31",
   "metadata": {},
   "outputs": [
    {
     "name": "stdout",
     "output_type": "stream",
     "text": [
      "Load the Saved Model\n"
     ]
    }
   ],
   "source": [
    "# Train model\n",
    "saved_model_name = \"saved_models_syswong/DRO_COX_{}_{}_lr_{}_seed_{}_sensitive_{}_alpha_{}\"\\\n",
    "    .format(args['dataset'], args['model'], args['lr'], args['seed'], args['protect_index'], args['eps'])\n",
    "if args['train_or_evaluation'] == 0:\n",
    "    print('Model Training')\n",
    "    starttime = datetime.datetime.now()\n",
    "    #%% stochastic method\n",
    "    for epoch in range(args['epochs']):\n",
    "        #for batch in range(0,np.int64(np.floor(len(data_X_train)/mini_batch))*mini_batch,mini_batch):\n",
    "\n",
    "        # backward propagation\n",
    "        outputs = coxPH_model(data_X_train)\n",
    "        per_sample_losses = criterion_per_sample(outputs, data_event_train)  # loss between prediction and target\n",
    "        chi_loss_np = loss_map_chi_factory(per_sample_losses.detach().numpy(), args['eps'])\n",
    "        cutpt = optimize.fminbound(chi_loss_np, np.min(per_sample_losses.detach().numpy()) - 1000.0, np.max(per_sample_losses.detach().numpy()))\n",
    "        loss = loss_map_chi_factory_tensor(per_sample_losses, args['eps'], cutpt)\n",
    "        optimizer.zero_grad() # zero the parameter gradients\n",
    "        loss.backward()\n",
    "        optimizer.step()\n",
    "        # print ('Epoch [{}/{}], Loss: {:.4f}'.format(epoch+1, args['epochs, loss.item()))\n",
    "\n",
    "    endtime = datetime.datetime.now()\n",
    "    time = (endtime - starttime).seconds\n",
    "    print('Training Time:', time)\n",
    "    if not os.path.exists('saved_models_syswong'):\n",
    "        os.makedirs('saved_models_syswong')\n",
    "    torch.save(coxPH_model.state_dict(), saved_model_name)\n",
    "else:\n",
    "    print('Load the Saved Model')\n",
    "    coxPH_model.load_state_dict(torch.load(saved_model_name))"
   ]
  },
  {
   "cell_type": "markdown",
   "id": "ce910078",
   "metadata": {},
   "source": [
    "# Evaluation"
   ]
  },
  {
   "cell_type": "code",
   "execution_count": 21,
   "id": "658bc905",
   "metadata": {},
   "outputs": [],
   "source": [
    "#%% Evaluate the model\n",
    "# import sys\n",
    "# sys.stdout=open(\"typical_Cox_PH_output_Batch.txt\",\"w\")\n",
    "#Measuring the Performance of Survival Models\n",
    "# linear predictor for train data\n",
    "with torch.no_grad():\n",
    "    base_prediction = coxPH_model(data_X_train)\n",
    "    base_prediction = (base_prediction.numpy()).reshape((-1,)) # beta \\dot x\n",
    "# linear predictor for test/dev data\n",
    "with torch.no_grad():\n",
    "    model_prediction = coxPH_model(data_X_test)\n",
    "    model_prediction = (model_prediction.numpy()).reshape((-1,)) # beta \\dot x"
   ]
  },
  {
   "cell_type": "code",
   "execution_count": null,
   "id": "bd7736b1",
   "metadata": {},
   "outputs": [
    {
     "name": "stdout",
     "output_type": "stream",
     "text": [
      "----------------------Accuracy Measures----------------------\n",
      "skSurv implemented C-index for test data:  0.7916\n",
      "integrated brier score from sksurv (percentile 100): 0.1332\n",
      "Time-dependent Area under the ROC:  0.8150\n",
      "Log partial likelihood: -7.0842\n"
     ]
    }
   ],
   "source": [
    "print('----------------------Accuracy Measures----------------------')\n",
    "# C-index\n",
    "skSurv_result_test = concordance_index_censored(data_event_test, data_time_test, model_prediction)\n",
    "print(f\"skSurv implemented C-index for test data: {skSurv_result_test[0]: .4f}\")\n",
    "\n",
    "# integrated brier score\n",
    "data_event_train = data_event_train.numpy().astype(bool)\n",
    "data_time_train = data_time_train.numpy()\n",
    "survFunction_test = predict_survival_function(base_prediction, data_event_train, data_time_train, model_prediction)\n",
    "\n",
    "percentiles = [100]\n",
    "tmp_IBS_from_sksurv = np.zeros(len(percentiles))\n",
    "min_time = 0\n",
    "if data_time_train.min()>data_time_test.min():\n",
    "    min_time = data_time_train.min()\n",
    "else:\n",
    "    min_time = data_time_test.min()\n",
    "for t in range(len(percentiles)):\n",
    "    times_range = np.linspace(min_time, np.percentile(data_time_test, percentiles[t]), num=50, endpoint=False)\n",
    "    preds_ibs = np.asarray([[fn(i_t) for i_t in times_range] for fn in survFunction_test])\n",
    "    tmp_IBS_from_sksurv[t] = integrated_brier_score(data_y_train, data_y_test, preds_ibs, times_range)\n",
    "    print(\"integrated brier score from sksurv (percentile {}): {:0.4f}\".format(percentiles[t], tmp_IBS_from_sksurv[t]))\n",
    "\n",
    "# Time-dependent Area under the ROC\n",
    "survival_train = np.dtype([('event', data_event_train.dtype), ('surv_time', data_time_train.dtype)])\n",
    "survival_train = np.empty(len(data_event_train), dtype=survival_train)\n",
    "survival_train['event'] = data_event_train\n",
    "survival_train['surv_time'] = data_time_train\n",
    "\n",
    "survival_test = np.dtype([('event', data_event_test.dtype), ('surv_time', data_time_test.dtype)])\n",
    "survival_test = np.empty(len(data_event_test), dtype=survival_test)\n",
    "survival_test['event'] = data_event_test\n",
    "survival_test['surv_time'] = data_time_test\n",
    "\n",
    "# event_times = np.arange(np.min(data_time_test), np.max(data_time_test) / 2, 75)\n",
    "event_times = np.percentile(data_time_test, np.linspace(5, 81, 15))\n",
    "# event_times = np.percentile(data_y['futime'], np.linspace(5, 81, 15))\n",
    "\n",
    "test_auc, test_mean_auc = cumulative_dynamic_auc(survival_train, survival_test, model_prediction, event_times)\n",
    "\n",
    "print(f\"Time-dependent Area under the ROC: {test_mean_auc: .4f}\")\n",
    "\n",
    "# log partial likelihood\n",
    "log_lik = log_partial_lik(model_prediction.reshape(-1, 1), data_event_test.reshape(-1, 1))\n",
    "print(f\"Log partial likelihood: {log_lik: .4f}\")"
   ]
  },
  {
   "cell_type": "code",
   "execution_count": 28,
   "id": "d5f4d386",
   "metadata": {},
   "outputs": [
    {
     "name": "stdout",
     "output_type": "stream",
     "text": [
      "----------------------Fairness Measures----------------------\n",
      "Concordance Imparity (CI) score (%) for test data:  0.11\n",
      "F_I individual fairness metric with scale= 0.0100:  0.0023\n",
      "F_G group fairness metric (for protect):  0.0098\n",
      "F_S intersectional fairness metric:  0.0275\n",
      "F_A average fairness metric:  0.0132\n"
     ]
    }
   ],
   "source": [
    "print('----------------------Fairness Measures----------------------')\n",
    "# %% C_index_difference between groups for fairness measure\n",
    "\n",
    "CI_score = CI(model_prediction, data_event_test, data_time_test, S_test[:, args[\"protect_index\"]])\n",
    "print(f\"Concordance Imparity (CI) score (%) for test data: {CI_score: .2f}\")\n",
    "\n",
    "# %% individual fairness measures\n",
    "data_X_test_for_distance = data_X_test.numpy()\n",
    "data_X_test_for_distance = data_X_test_for_distance / np.linalg.norm(data_X_test_for_distance, axis=1, keepdims=1)\n",
    "\n",
    "\n",
    "if args[\"with_scale\"]:\n",
    "    scale_measure = 0.01\n",
    "    F_I = individual_fairness_scale(model_prediction, data_X_test_for_distance, scale_measure)\n",
    "    print(f\"F_I individual fairness metric with scale={scale_measure: .4f}: {F_I: .4f}\")\n",
    "else:\n",
    "    F_I = individual_fairness(model_prediction, data_X_test_for_distance)\n",
    "    print(f\"F_I individual fairness metric: {F_I: .4f}\")\n",
    "\n",
    "# %% group fairness measures - age or race or gender\n",
    "F_G = group_fairness(model_prediction, S_test[:, args[\"protect_index\"]])\n",
    "print(f\"F_G group fairness metric (for protect): {F_G: .4f}\")\n",
    "\n",
    "\n",
    "# %% intersectional fairness measures\n",
    "F_S = intersect_fairness(model_prediction, S_test, intersectionalGroups)\n",
    "print(f\"F_S intersectional fairness metric: {F_S: .4f}\")\n",
    "\n",
    "\n",
    "# %% average fairness measures\n",
    "F_A = (F_I + F_G + F_S) / 3\n",
    "print(f\"F_A average fairness metric: {F_A: .4f}\")\n"
   ]
  },
  {
   "cell_type": "code",
   "execution_count": 37,
   "id": "27db0cf4",
   "metadata": {},
   "outputs": [
    {
     "data": {
      "text/plain": [
       "torch.return_types.max(\n",
       "values=tensor([ 3.3241, 24.4862,  1.5910, 21.6721, 16.7062,  1.1111]),\n",
       "indices=tensor([4256, 2949,   42, 3068, 4712,    0]))"
      ]
     },
     "execution_count": 37,
     "metadata": {},
     "output_type": "execute_result"
    }
   ],
   "source": [
    "data_X_train.max(axis = 0)"
   ]
  }
 ],
 "metadata": {
  "kernelspec": {
   "display_name": "dro_surv_py3.8",
   "language": "python",
   "name": "python3"
  },
  "language_info": {
   "codemirror_mode": {
    "name": "ipython",
    "version": 3
   },
   "file_extension": ".py",
   "mimetype": "text/x-python",
   "name": "python",
   "nbconvert_exporter": "python",
   "pygments_lexer": "ipython3",
   "version": "3.8.3"
  }
 },
 "nbformat": 4,
 "nbformat_minor": 5
}
